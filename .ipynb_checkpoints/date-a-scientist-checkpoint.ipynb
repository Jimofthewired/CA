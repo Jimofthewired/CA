{
 "cells": [
  {
   "cell_type": "code",
   "execution_count": 1,
   "metadata": {},
   "outputs": [],
   "source": [
    "import torch\n",
    "import torch.nn as nn\n",
    "import torch.optim as optim\n",
    "\n",
    "from sklearn.model_selection import train_test_split\n",
    "from sklearn.naive_bayes import MultinomialNB\n",
    "import pandas as pd\n",
    "import numpy as np\n",
    "import collections\n",
    "import matplotlib as plt"
   ]
  },
  {
   "cell_type": "code",
   "execution_count": 2,
   "metadata": {},
   "outputs": [
    {
     "name": "stdout",
     "output_type": "stream",
     "text": [
      "   age       body_type               diet    drinks      drugs  \\\n",
      "0   22  a little extra  strictly anything  socially      never   \n",
      "1   35         average       mostly other     often  sometimes   \n",
      "2   38            thin           anything  socially        NaN   \n",
      "3   23            thin         vegetarian  socially        NaN   \n",
      "4   29        athletic                NaN  socially      never   \n",
      "\n",
      "                           education  \\\n",
      "0      working on college/university   \n",
      "1              working on space camp   \n",
      "2     graduated from masters program   \n",
      "3      working on college/university   \n",
      "4  graduated from college/university   \n",
      "\n",
      "                                              essay0  \\\n",
      "0  about me:<br />\\n<br />\\ni would love to think...   \n",
      "1  i am a chef: this is what that means.<br />\\n1...   \n",
      "2  i'm not ashamed of much, but writing public te...   \n",
      "3          i work in a library and go to school. . .   \n",
      "4  hey how's it going? currently vague on the pro...   \n",
      "\n",
      "                                              essay1  \\\n",
      "0  currently working as an international agent fo...   \n",
      "1  dedicating everyday to being an unbelievable b...   \n",
      "2  i make nerdy software for musicians, artists, ...   \n",
      "3          reading things written by old dead people   \n",
      "4                         work work work work + play   \n",
      "\n",
      "                                              essay2  \\\n",
      "0  making people laugh.<br />\\nranting about a go...   \n",
      "1  being silly. having ridiculous amonts of fun w...   \n",
      "2  improvising in different contexts. alternating...   \n",
      "3  playing synthesizers and organizing books acco...   \n",
      "4  creating imagery to look at:<br />\\nhttp://bag...   \n",
      "\n",
      "                                              essay3  ...  \\\n",
      "0  the way i look. i am a six foot half asian, ha...  ...   \n",
      "1                                                NaN  ...   \n",
      "2  my large jaw and large glasses are the physica...  ...   \n",
      "3                  socially awkward but i do my best  ...   \n",
      "4            i smile a lot and my inquisitive nature  ...   \n",
      "\n",
      "                          location  \\\n",
      "0  south san francisco, california   \n",
      "1              oakland, california   \n",
      "2        san francisco, california   \n",
      "3             berkeley, california   \n",
      "4        san francisco, california   \n",
      "\n",
      "                                      offspring orientation  \\\n",
      "0  doesn&rsquo;t have kids, but might want them    straight   \n",
      "1  doesn&rsquo;t have kids, but might want them    straight   \n",
      "2                                           NaN    straight   \n",
      "3                       doesn&rsquo;t want kids    straight   \n",
      "4                                           NaN    straight   \n",
      "\n",
      "                        pets                                  religion sex  \\\n",
      "0  likes dogs and likes cats     agnosticism and very serious about it   m   \n",
      "1  likes dogs and likes cats  agnosticism but not too serious about it   m   \n",
      "2                   has cats                                       NaN   m   \n",
      "3                 likes cats                                       NaN   m   \n",
      "4  likes dogs and likes cats                                       NaN   m   \n",
      "\n",
      "                                 sign     smokes  \\\n",
      "0                              gemini  sometimes   \n",
      "1                              cancer         no   \n",
      "2  pisces but it doesn&rsquo;t matter         no   \n",
      "3                              pisces         no   \n",
      "4                            aquarius         no   \n",
      "\n",
      "                                              speaks     status  \n",
      "0                                            english     single  \n",
      "1  english (fluently), spanish (poorly), french (...     single  \n",
      "2                               english, french, c++  available  \n",
      "3                           english, german (poorly)     single  \n",
      "4                                            english     single  \n",
      "\n",
      "[5 rows x 31 columns]\n",
      "<class 'pandas.core.frame.DataFrame'>\n",
      "RangeIndex: 59946 entries, 0 to 59945\n",
      "Data columns (total 31 columns):\n",
      " #   Column       Non-Null Count  Dtype  \n",
      "---  ------       --------------  -----  \n",
      " 0   age          59946 non-null  int64  \n",
      " 1   body_type    54650 non-null  object \n",
      " 2   diet         35551 non-null  object \n",
      " 3   drinks       56961 non-null  object \n",
      " 4   drugs        45866 non-null  object \n",
      " 5   education    53318 non-null  object \n",
      " 6   essay0       54458 non-null  object \n",
      " 7   essay1       52374 non-null  object \n",
      " 8   essay2       50308 non-null  object \n",
      " 9   essay3       48470 non-null  object \n",
      " 10  essay4       49409 non-null  object \n",
      " 11  essay5       49096 non-null  object \n",
      " 12  essay6       46175 non-null  object \n",
      " 13  essay7       47495 non-null  object \n",
      " 14  essay8       40721 non-null  object \n",
      " 15  essay9       47343 non-null  object \n",
      " 16  ethnicity    54266 non-null  object \n",
      " 17  height       59943 non-null  float64\n",
      " 18  income       59946 non-null  int64  \n",
      " 19  job          51748 non-null  object \n",
      " 20  last_online  59946 non-null  object \n",
      " 21  location     59946 non-null  object \n",
      " 22  offspring    24385 non-null  object \n",
      " 23  orientation  59946 non-null  object \n",
      " 24  pets         40025 non-null  object \n",
      " 25  religion     39720 non-null  object \n",
      " 26  sex          59946 non-null  object \n",
      " 27  sign         48890 non-null  object \n",
      " 28  smokes       54434 non-null  object \n",
      " 29  speaks       59896 non-null  object \n",
      " 30  status       59946 non-null  object \n",
      "dtypes: float64(1), int64(2), object(28)\n",
      "memory usage: 14.2+ MB\n"
     ]
    }
   ],
   "source": [
    "profiles = pd.read_csv('profiles.csv')\n",
    "\n",
    "print(profiles.head())\n",
    "profiles.info()"
   ]
  },
  {
   "cell_type": "code",
   "execution_count": 27,
   "metadata": {},
   "outputs": [
    {
     "name": "stdout",
     "output_type": "stream",
     "text": [
      "education\n",
      "graduated from college/university    23959\n",
      "graduated from masters program        8961\n",
      "working on college/university         5712\n",
      "working on masters program            1683\n",
      "graduated from two-year college       1531\n",
      "graduated from high school            1428\n",
      "graduated from ph.d program           1272\n",
      "graduated from law school             1122\n",
      "working on two-year college           1074\n",
      "dropped out of college/university      995\n",
      "working on ph.d program                983\n",
      "college/university                     801\n",
      "graduated from space camp              657\n",
      "dropped out of space camp              523\n",
      "graduated from med school              446\n",
      "working on space camp                  445\n",
      "working on law school                  269\n",
      "two-year college                       222\n",
      "working on med school                  212\n",
      "dropped out of two-year college        191\n",
      "dropped out of masters program         140\n",
      "masters program                        136\n",
      "dropped out of ph.d program            127\n",
      "dropped out of high school             102\n",
      "high school                             96\n",
      "working on high school                  87\n",
      "space camp                              58\n",
      "ph.d program                            26\n",
      "law school                              19\n",
      "dropped out of law school               18\n",
      "dropped out of med school               12\n",
      "med school                              11\n",
      "Name: count, dtype: int64\n"
     ]
    }
   ],
   "source": [
    "print(profiles['education'].value_counts())"
   ]
  },
  {
   "cell_type": "markdown",
   "metadata": {},
   "source": [
    "From these counts, it is clear that OKCupid has a large user base within graduated university students. This includes a significant number of people that continued their education and graduated from a masters degree program. This suggests a possible connection between education level and usage of OKCupid"
   ]
  },
  {
   "cell_type": "code",
   "execution_count": null,
   "metadata": {},
   "outputs": [],
   "source": [
    "#Gathering all profiles 'education' details\n",
    "education = profiles['education']\n",
    "#print(education.values)\n",
    "education.unique\n",
    "edu_labs= [profiles['education'].unique() for profiles['education'] in profiles['education']]\n",
    "print(edu_labs)\n"
   ]
  },
  {
   "cell_type": "code",
   "execution_count": 17,
   "metadata": {},
   "outputs": [
    {
     "data": {
      "text/plain": [
       "drugs\n",
       "never        37724\n",
       "sometimes     7732\n",
       "often          410\n",
       "Name: count, dtype: int64"
      ]
     },
     "execution_count": 17,
     "metadata": {},
     "output_type": "execute_result"
    }
   ],
   "source": [
    "drugs = profiles['drugs']\n",
    "drugs.value_counts()\n",
    "\n"
   ]
  },
  {
   "cell_type": "markdown",
   "metadata": {},
   "source": [
    "This shows that the vast majority of profiles say they do not take drugs. This may be due to the profile owners not wanting to make it public that they use recreational drugs."
   ]
  },
  {
   "cell_type": "code",
   "execution_count": 14,
   "metadata": {},
   "outputs": [],
   "source": [
    "\n",
    "drugs = drugs.replace({\n",
    "    'never':0,\n",
    "    'sometimes':1,\n",
    "    'often':2,\n",
    "})\n",
    "drugs= drugs.fillna(0)"
   ]
  },
  {
   "cell_type": "code",
   "execution_count": 15,
   "metadata": {},
   "outputs": [
    {
     "name": "stdout",
     "output_type": "stream",
     "text": [
      "0        0.0\n",
      "1        1.0\n",
      "2        0.0\n",
      "3        0.0\n",
      "4        0.0\n",
      "        ... \n",
      "59941    0.0\n",
      "59942    1.0\n",
      "59943    0.0\n",
      "59944    2.0\n",
      "59945    0.0\n",
      "Name: drugs, Length: 59946, dtype: float64\n"
     ]
    }
   ],
   "source": [
    "print(drugs)"
   ]
  },
  {
   "cell_type": "code",
   "execution_count": 22,
   "metadata": {},
   "outputs": [
    {
     "data": {
      "text/plain": [
       "smokes\n",
       "no                43896\n",
       "sometimes          3787\n",
       "when drinking      3040\n",
       "yes                2231\n",
       "trying to quit     1480\n",
       "Name: count, dtype: int64"
      ]
     },
     "execution_count": 22,
     "metadata": {},
     "output_type": "execute_result"
    }
   ],
   "source": [
    "smokes = profiles['smokes']\n",
    "smokes.value_counts()"
   ]
  },
  {
   "cell_type": "code",
   "execution_count": 23,
   "metadata": {},
   "outputs": [
    {
     "name": "stdout",
     "output_type": "stream",
     "text": [
      "0        1.0\n",
      "1        0.0\n",
      "2        0.0\n",
      "3        0.0\n",
      "4        0.0\n",
      "        ... \n",
      "59941    0.0\n",
      "59942    0.0\n",
      "59943    0.0\n",
      "59944    4.0\n",
      "59945    1.0\n",
      "Name: smokes, Length: 59946, dtype: float64\n"
     ]
    }
   ],
   "source": [
    "smokes = smokes.replace({\n",
    "    'no':0,\n",
    "    'sometimes':1,\n",
    "    'when drinking':2,\n",
    "    'yes':3,\n",
    "    'trying to quit':4\n",
    "})\n",
    "print(smokes)"
   ]
  },
  {
   "cell_type": "code",
   "execution_count": null,
   "metadata": {},
   "outputs": [],
   "source": []
  }
 ],
 "metadata": {
  "kernelspec": {
   "display_name": "Python 3 (ipykernel)",
   "language": "python",
   "name": "python3"
  },
  "language_info": {
   "codemirror_mode": {
    "name": "ipython",
    "version": 3
   },
   "file_extension": ".py",
   "mimetype": "text/x-python",
   "name": "python",
   "nbconvert_exporter": "python",
   "pygments_lexer": "ipython3",
   "version": "3.9.9"
  }
 },
 "nbformat": 4,
 "nbformat_minor": 4
}
