{
 "cells": [
  {
   "cell_type": "code",
   "execution_count": 1,
   "metadata": {},
   "outputs": [
    {
     "name": "stdout",
     "output_type": "stream",
     "text": [
      "CPython\n"
     ]
    }
   ],
   "source": [
    "import torch\n",
    "from torch.nn import BCEWithLogitsLoss\n",
    "import torch.nn as nn\n",
    "import torch.optim as optim\n",
    "from sklearn.preprocessing import StandardScaler\n",
    "from sklearn.model_selection import train_test_split\n",
    "from sklearn.neural_network import MLPClassifier\n",
    "#from sklearn.naive_bayes import MultinomialNB\n",
    "from sklearn.cluster import KMeans\n",
    "from sklearn.linear_model import LogisticRegression, LinearRegression\n",
    "import sklearn\n",
    "import pandas as pd\n",
    "import numpy as np\n",
    "import platform\n",
    "import collections\n",
    "import gc\n",
    "gc.set_threshold(100, 10, 10)\n",
    "import re\n",
    "from matplotlib import pyplot as plt\n",
    "\n",
    "print(platform.python_implementation())\n",
    "%matplotlib inline"
   ]
  },
  {
   "cell_type": "code",
   "execution_count": 2,
   "metadata": {},
   "outputs": [
    {
     "name": "stdout",
     "output_type": "stream",
     "text": [
      "59946\n",
      "   age       body_type               diet    drinks      drugs  \\\n",
      "0   22  a little extra  strictly anything  socially      never   \n",
      "1   35         average       mostly other     often  sometimes   \n",
      "2   38            thin           anything  socially        NaN   \n",
      "3   23            thin         vegetarian  socially        NaN   \n",
      "4   29        athletic                NaN  socially      never   \n",
      "\n",
      "                           education  \\\n",
      "0      working on college/university   \n",
      "1              working on space camp   \n",
      "2     graduated from masters program   \n",
      "3      working on college/university   \n",
      "4  graduated from college/university   \n",
      "\n",
      "                                              essay0  \\\n",
      "0  about me:<br />\\n<br />\\ni would love to think...   \n",
      "1  i am a chef: this is what that means.<br />\\n1...   \n",
      "2  i'm not ashamed of much, but writing public te...   \n",
      "3          i work in a library and go to school. . .   \n",
      "4  hey how's it going? currently vague on the pro...   \n",
      "\n",
      "                                              essay1  \\\n",
      "0  currently working as an international agent fo...   \n",
      "1  dedicating everyday to being an unbelievable b...   \n",
      "2  i make nerdy software for musicians, artists, ...   \n",
      "3          reading things written by old dead people   \n",
      "4                         work work work work + play   \n",
      "\n",
      "                                              essay2  \\\n",
      "0  making people laugh.<br />\\nranting about a go...   \n",
      "1  being silly. having ridiculous amonts of fun w...   \n",
      "2  improvising in different contexts. alternating...   \n",
      "3  playing synthesizers and organizing books acco...   \n",
      "4  creating imagery to look at:<br />\\nhttp://bag...   \n",
      "\n",
      "                                              essay3  ...  \\\n",
      "0  the way i look. i am a six foot half asian, ha...  ...   \n",
      "1                                                NaN  ...   \n",
      "2  my large jaw and large glasses are the physica...  ...   \n",
      "3                  socially awkward but i do my best  ...   \n",
      "4            i smile a lot and my inquisitive nature  ...   \n",
      "\n",
      "                          location  \\\n",
      "0  south san francisco, california   \n",
      "1              oakland, california   \n",
      "2        san francisco, california   \n",
      "3             berkeley, california   \n",
      "4        san francisco, california   \n",
      "\n",
      "                                      offspring orientation  \\\n",
      "0  doesn&rsquo;t have kids, but might want them    straight   \n",
      "1  doesn&rsquo;t have kids, but might want them    straight   \n",
      "2                                           NaN    straight   \n",
      "3                       doesn&rsquo;t want kids    straight   \n",
      "4                                           NaN    straight   \n",
      "\n",
      "                        pets                                  religion sex  \\\n",
      "0  likes dogs and likes cats     agnosticism and very serious about it   m   \n",
      "1  likes dogs and likes cats  agnosticism but not too serious about it   m   \n",
      "2                   has cats                                       NaN   m   \n",
      "3                 likes cats                                       NaN   m   \n",
      "4  likes dogs and likes cats                                       NaN   m   \n",
      "\n",
      "                                 sign     smokes  \\\n",
      "0                              gemini  sometimes   \n",
      "1                              cancer         no   \n",
      "2  pisces but it doesn&rsquo;t matter         no   \n",
      "3                              pisces         no   \n",
      "4                            aquarius         no   \n",
      "\n",
      "                                              speaks     status  \n",
      "0                                            english     single  \n",
      "1  english (fluently), spanish (poorly), french (...     single  \n",
      "2                               english, french, c++  available  \n",
      "3                           english, german (poorly)     single  \n",
      "4                                            english     single  \n",
      "\n",
      "[5 rows x 31 columns]\n",
      "<class 'pandas.core.frame.DataFrame'>\n",
      "RangeIndex: 59946 entries, 0 to 59945\n",
      "Data columns (total 31 columns):\n",
      " #   Column       Non-Null Count  Dtype  \n",
      "---  ------       --------------  -----  \n",
      " 0   age          59946 non-null  int64  \n",
      " 1   body_type    54650 non-null  object \n",
      " 2   diet         35551 non-null  object \n",
      " 3   drinks       56961 non-null  object \n",
      " 4   drugs        45866 non-null  object \n",
      " 5   education    53318 non-null  object \n",
      " 6   essay0       54458 non-null  object \n",
      " 7   essay1       52374 non-null  object \n",
      " 8   essay2       50308 non-null  object \n",
      " 9   essay3       48470 non-null  object \n",
      " 10  essay4       49409 non-null  object \n",
      " 11  essay5       49096 non-null  object \n",
      " 12  essay6       46175 non-null  object \n",
      " 13  essay7       47495 non-null  object \n",
      " 14  essay8       40721 non-null  object \n",
      " 15  essay9       47343 non-null  object \n",
      " 16  ethnicity    54266 non-null  object \n",
      " 17  height       59943 non-null  float64\n",
      " 18  income       59946 non-null  int64  \n",
      " 19  job          51748 non-null  object \n",
      " 20  last_online  59946 non-null  object \n",
      " 21  location     59946 non-null  object \n",
      " 22  offspring    24385 non-null  object \n",
      " 23  orientation  59946 non-null  object \n",
      " 24  pets         40025 non-null  object \n",
      " 25  religion     39720 non-null  object \n",
      " 26  sex          59946 non-null  object \n",
      " 27  sign         48890 non-null  object \n",
      " 28  smokes       54434 non-null  object \n",
      " 29  speaks       59896 non-null  object \n",
      " 30  status       59946 non-null  object \n",
      "dtypes: float64(1), int64(2), object(28)\n",
      "memory usage: 14.2+ MB\n",
      "None\n",
      "Index(['age', 'body_type', 'diet', 'drinks', 'drugs', 'education', 'essay0',\n",
      "       'essay1', 'essay2', 'essay3', 'essay4', 'essay5', 'essay6', 'essay7',\n",
      "       'essay8', 'essay9', 'ethnicity', 'height', 'income', 'job',\n",
      "       'last_online', 'location', 'offspring', 'orientation', 'pets',\n",
      "       'religion', 'sex', 'sign', 'smokes', 'speaks', 'status'],\n",
      "      dtype='object')\n"
     ]
    }
   ],
   "source": [
    "profiles = pd.read_csv('profiles.csv')\n",
    "print(len(profiles['smokes']))\n",
    "scaler = StandardScaler\n",
    "print(profiles.head())\n",
    "print(profiles.info())\n",
    "print(profiles.columns)"
   ]
  },
  {
   "cell_type": "code",
   "execution_count": 3,
   "metadata": {},
   "outputs": [
    {
     "name": "stdout",
     "output_type": "stream",
     "text": [
      "0            working on college/university\n",
      "1                    working on space camp\n",
      "2           graduated from masters program\n",
      "3            working on college/university\n",
      "4        graduated from college/university\n",
      "                       ...                \n",
      "59941    graduated from college/university\n",
      "59942        working on college/university\n",
      "59943       graduated from masters program\n",
      "59944        working on college/university\n",
      "59945       graduated from masters program\n",
      "Name: education, Length: 59946, dtype: object\n",
      "0        1\n",
      "1        1\n",
      "2        2\n",
      "3        1\n",
      "4        2\n",
      "        ..\n",
      "59941    2\n",
      "59942    1\n",
      "59943    2\n",
      "59944    1\n",
      "59945    2\n",
      "Name: education, Length: 59946, dtype: int64\n"
     ]
    },
    {
     "data": {
      "text/plain": [
       "education\n",
       "2    48455\n",
       "1    11204\n",
       "0      287\n",
       "Name: count, dtype: int64"
      ]
     },
     "execution_count": 3,
     "metadata": {},
     "output_type": "execute_result"
    }
   ],
   "source": [
    "\n",
    "print(profiles['education'])\n",
    "for i in profiles['education']:\n",
    "    undergrads= ['working on college/university','graduated from two-year college' ,'graduated from high school','working on two-year college','dropped out of college/university ', 'dropped out of space camp', 'working on space camp', 'working on law school', 'two-year college']\n",
    "    postgrads = ['graduated from college/university', 'graduated from masters program', 'working on masters program', 'graduated from ph.d program', 'graduated from law school', 'working on ph.d program', 'college/university', 'graduated from space camp', 'graduated from med school','dropped out of masters program','masters program', 'dropped out of ph.d program', 'space camp', 'ph.d program', 'law school', 'dropped out of law school', 'dropped out of med school', 'med school']\n",
    "    other = ['high school', 'dropped out of two-year college']\n",
    "    if i in other:\n",
    "        profiles['education'] = profiles['education'].replace({\n",
    "            i:0\n",
    "        })\n",
    "    elif i in undergrads:\n",
    "        profiles['education']= profiles['education'].replace({\n",
    "            i:1\n",
    "        })\n",
    "    else:\n",
    "        profiles['education']= profiles['education'].replace({\n",
    "            i:2\n",
    "        })\n",
    "    \n",
    "print(profiles['education'])\n",
    "profiles['education'].value_counts()"
   ]
  },
  {
   "cell_type": "markdown",
   "metadata": {},
   "source": [
    "From these counts, it is clear that OKCupid has a large user base within graduated university students. This includes a significant number of people that continued their education and graduated from a masters degree program. This suggests a possible connection between education level and usage of OKCupid"
   ]
  },
  {
   "cell_type": "code",
   "execution_count": 4,
   "metadata": {},
   "outputs": [
    {
     "name": "stdout",
     "output_type": "stream",
     "text": [
      "0        1\n",
      "1        1\n",
      "2        1\n",
      "3        1\n",
      "4        1\n",
      "        ..\n",
      "59941    1\n",
      "59942    1\n",
      "59943    1\n",
      "59944    1\n",
      "59945    1\n",
      "Name: grad_type, Length: 59946, dtype: int64\n"
     ]
    }
   ],
   "source": [
    "#Gathering all profiles 'education' details\n",
    "#education = profiles['education']\n",
    "#print(education.values)\n",
    "#edu_labs= [profiles['education'].unique() for profiles['education'] in profiles['education']]\n",
    "\n",
    "profiles['grad_type']=[0 if i=='graduated from college/university' or i == 'graduated from masters program' else 1 for i in profiles['education']]\n",
    "\n",
    "print(profiles['grad_type'])"
   ]
  },
  {
   "cell_type": "code",
   "execution_count": null,
   "metadata": {},
   "outputs": [],
   "source": []
  },
  {
   "cell_type": "code",
   "execution_count": 5,
   "metadata": {},
   "outputs": [
    {
     "data": {
      "text/plain": [
       "drugs\n",
       "never        37724\n",
       "sometimes     7732\n",
       "often          410\n",
       "Name: count, dtype: int64"
      ]
     },
     "execution_count": 5,
     "metadata": {},
     "output_type": "execute_result"
    }
   ],
   "source": [
    "drugs = profiles['drugs']\n",
    "drugs.value_counts()\n",
    "\n"
   ]
  },
  {
   "cell_type": "markdown",
   "metadata": {},
   "source": [
    "This shows that the vast majority of profiles say they do not take drugs. This may be due to the profile owners not wanting to make it public that they use recreational drugs."
   ]
  },
  {
   "cell_type": "code",
   "execution_count": 6,
   "metadata": {},
   "outputs": [
    {
     "name": "stdout",
     "output_type": "stream",
     "text": [
      "0            never\n",
      "1        sometimes\n",
      "2              NaN\n",
      "3              NaN\n",
      "4            never\n",
      "           ...    \n",
      "59941        never\n",
      "59942    sometimes\n",
      "59943        never\n",
      "59944        often\n",
      "59945          NaN\n",
      "Name: drugs, Length: 59946, dtype: object\n",
      "0        0.0\n",
      "1        1.0\n",
      "2        0.0\n",
      "3        0.0\n",
      "4        0.0\n",
      "        ... \n",
      "59941    0.0\n",
      "59942    1.0\n",
      "59943    0.0\n",
      "59944    2.0\n",
      "59945    0.0\n",
      "Name: drugs, Length: 59946, dtype: float64\n"
     ]
    }
   ],
   "source": [
    "print(profiles['drugs'])\n",
    "profiles['drugs'] = profiles['drugs'].replace({\n",
    "    'never':0,\n",
    "    'sometimes':1,\n",
    "    'often':2,\n",
    "})\n",
    "profiles['drugs'] = profiles['drugs'].fillna(0)\n",
    "print(profiles['drugs'])"
   ]
  },
  {
   "cell_type": "code",
   "execution_count": 7,
   "metadata": {},
   "outputs": [
    {
     "name": "stdout",
     "output_type": "stream",
     "text": [
      "<bound method NDFrame.head of 0        0.0\n",
      "1        1.0\n",
      "2        0.0\n",
      "3        0.0\n",
      "4        0.0\n",
      "        ... \n",
      "59941    0.0\n",
      "59942    1.0\n",
      "59943    0.0\n",
      "59944    2.0\n",
      "59945    0.0\n",
      "Name: drugs, Length: 59946, dtype: float64>\n"
     ]
    }
   ],
   "source": [
    "print(profiles['drugs'].head)\n"
   ]
  },
  {
   "cell_type": "code",
   "execution_count": 8,
   "metadata": {},
   "outputs": [],
   "source": [
    "profiles['income'] = profiles['income'].fillna(0)"
   ]
  },
  {
   "cell_type": "code",
   "execution_count": 9,
   "metadata": {},
   "outputs": [
    {
     "data": {
      "text/plain": [
       "smokes        \n",
       "no                43896\n",
       "sometimes          3787\n",
       "when drinking      3040\n",
       "yes                2231\n",
       "trying to quit     1480\n",
       "Name: count, dtype: int64"
      ]
     },
     "execution_count": 9,
     "metadata": {},
     "output_type": "execute_result"
    }
   ],
   "source": [
    "smokes = profiles[['smokes']]\n",
    "smokes.value_counts()"
   ]
  },
  {
   "cell_type": "code",
   "execution_count": 10,
   "metadata": {},
   "outputs": [],
   "source": [
    "profiles['smokes'] = profiles['smokes'].replace({\n",
    "    'no':0,\n",
    "    'sometimes':1,\n",
    "    'when drinking':2,\n",
    "    'yes':4,\n",
    "    'trying to quit':3\n",
    "})\n",
    "profiles['smokes'] = profiles['smokes'].fillna(0)"
   ]
  },
  {
   "cell_type": "code",
   "execution_count": 11,
   "metadata": {},
   "outputs": [
    {
     "name": "stdout",
     "output_type": "stream",
     "text": [
      "0        1.0\n",
      "1        0.0\n",
      "2        0.0\n",
      "3        0.0\n",
      "4        0.0\n",
      "        ... \n",
      "59941    0.0\n",
      "59942    0.0\n",
      "59943    0.0\n",
      "59944    3.0\n",
      "59945    1.0\n",
      "Name: smokes, Length: 59946, dtype: float64\n"
     ]
    }
   ],
   "source": [
    "print(profiles['smokes'])"
   ]
  },
  {
   "cell_type": "code",
   "execution_count": 12,
   "metadata": {
    "scrolled": true
   },
   "outputs": [
    {
     "data": {
      "text/plain": [
       "drinks\n",
       "2.0    41780\n",
       "0.0     6252\n",
       "1.0     5957\n",
       "3.0     5164\n",
       "4.0      471\n",
       "5.0      322\n",
       "Name: count, dtype: int64"
      ]
     },
     "execution_count": 12,
     "metadata": {},
     "output_type": "execute_result"
    }
   ],
   "source": [
    "#drinks = profiles['drinks']\n",
    "\n",
    "profiles['drinks'] = profiles['drinks'].replace({\n",
    "    'not at all':0,\n",
    "    'rarely':1,\n",
    "    'socially':2,\n",
    "    'often':3,\n",
    "    'very often':4,\n",
    "    'desperately':5\n",
    "})\n",
    "profiles['drinks'] = profiles['drinks'].fillna(0)\n",
    "profiles['drinks'].value_counts()"
   ]
  },
  {
   "cell_type": "markdown",
   "metadata": {},
   "source": [
    "This would suggest that most OkCupid users are very likely to drink if they are in a social setting, but not necessarily alone."
   ]
  },
  {
   "cell_type": "code",
   "execution_count": 31,
   "metadata": {},
   "outputs": [
    {
     "name": "stdout",
     "output_type": "stream",
     "text": [
      "59946\n",
      "59946\n"
     ]
    },
    {
     "data": {
      "text/plain": [
       "<matplotlib.collections.PathCollection at 0x1efbc6c49a0>"
      ]
     },
     "execution_count": 31,
     "metadata": {},
     "output_type": "execute_result"
    },
    {
     "data": {
      "image/png": "[encoded data removed]",
      "text/plain": [
       "<Figure size 640x480 with 1 Axes>"
      ]
     },
     "metadata": {},
     "output_type": "display_data"
    }
   ],
   "source": [
    "X= profiles['education']\n",
    "y = profiles['drugs']\n",
    "profiles = profiles.reset_index(drop=True)\n",
    "print(len(X))\n",
    "print(len(y))\n",
    "edu = []\n",
    "dru = []\n",
    "for i in range(len(profiles)):\n",
    "    edu.append(profiles['education'][i])\n",
    "    dru.append(profiles['drugs'][i])\n",
    "edu.sort()\n",
    "dru.sort()\n",
    "plt.xlabel('drug Use')\n",
    "plt.ylabel('Education Level')\n",
    "plt.scatter(dru, edu, alpha = .3)"
   ]
  },
  {
   "cell_type": "code",
   "execution_count": 14,
   "metadata": {},
   "outputs": [
    {
     "name": "stdout",
     "output_type": "stream",
     "text": [
      "<class 'pandas.core.series.Series'>\n",
      "RangeIndex: 59946 entries, 0 to 59945\n",
      "Series name: age\n",
      "Non-Null Count  Dtype\n",
      "--------------  -----\n",
      "59946 non-null  int64\n",
      "dtypes: int64(1)\n",
      "memory usage: 468.5 KB\n",
      "None\n",
      "0        1\n",
      "1        3\n",
      "2        3\n",
      "3        1\n",
      "4        2\n",
      "        ..\n",
      "59941    6\n",
      "59942    1\n",
      "59943    4\n",
      "59944    2\n",
      "59945    3\n",
      "Name: age, Length: 59946, dtype: int64\n"
     ]
    }
   ],
   "source": [
    "print(profiles['age'].info())\n",
    "for i in profiles['age']:\n",
    "    #for the minimum age\n",
    "    if i == 18:\n",
    "        profiles['age'] = profiles['age'].replace({\n",
    "            i:0\n",
    "        })\n",
    "    # 19 to 26\n",
    "    elif i > 18 and i < 27:\n",
    "        profiles['age'] = profiles['age'].replace({\n",
    "            i:1\n",
    "        })\n",
    "    # 27 to 33\n",
    "    elif i>26 and i<34:\n",
    "        profiles['age'] = profiles['age'].replace({\n",
    "            i:2\n",
    "        })\n",
    "    #34 to 4o\n",
    "    elif i>33 and i<41:\n",
    "        profiles['age'] = profiles['age'].replace({\n",
    "            i:3\n",
    "        })\n",
    "    # 41 to 47\n",
    "    elif i > 40 and i< 48:\n",
    "        profiles['age'] = profiles['age'].replace({\n",
    "            i:4\n",
    "        })\n",
    "    #48 to 54\n",
    "    elif i > 47 and i < 55:\n",
    "        profiles['age'] = profiles['age'].replace({\n",
    "            i:5\n",
    "        })\n",
    "    #55 to 61\n",
    "    elif i > 54 and i < 62:\n",
    "        profiles['age'] = profiles['age'].replace({\n",
    "            i:6\n",
    "        })\n",
    "    #62 onwards~\n",
    "    elif i > 61:\n",
    "        profiles['age'] = profiles['age'].replace({\n",
    "            i:7\n",
    "        })\n",
    "    \n",
    "profiles['age'].fillna(0)\n",
    "print(profiles['age'])"
   ]
  },
  {
   "cell_type": "code",
   "execution_count": 15,
   "metadata": {},
   "outputs": [
    {
     "name": "stdout",
     "output_type": "stream",
     "text": [
      "[1. 0. 0. ... 0. 3. 1.]\n"
     ]
    }
   ],
   "source": [
    "model = nn.Sequential(\n",
    "    nn.Linear(41962,20981),\n",
    "    nn.ReLU(),\n",
    "    nn.Linear(20981,10490),\n",
    "    nn.ReLU(),\n",
    "    nn.Linear(10490,5245),\n",
    "    nn.ReLU(),\n",
    "    nn.Linear(5245,2622),\n",
    "    nn.ReLU(),\n",
    "    nn.Linear(2622, 1311),\n",
    "    nn.ReLU(),\n",
    "    nn.Linear(1311, 655),\n",
    "    nn.ReLU(),\n",
    "    nn.Linear(655, 1),\n",
    "    nn.Sigmoid()\n",
    ")\n",
    "\n",
    "print(profiles['smokes'].values.astype(np.float64))"
   ]
  },
  {
   "cell_type": "code",
   "execution_count": 19,
   "metadata": {
    "scrolled": true
   },
   "outputs": [],
   "source": [
    "torch.manual_seed(13)\n",
    "labels=['education']\n",
    "inc_feat= ['drinks', 'drugs']\n",
    "X= torch.tensor(profiles[inc_feat].values.astype(np.float64), dtype= torch.float64)\n",
    "y= torch.tensor(profiles[labels].values.astype(np.float64), dtype= torch.float64).reshape(-1, 1)\n",
    "\n",
    "#profiles = profiles.drop_duplicates(subset = inc_feat)\n",
    "#print(len(profiles))\n",
    "#print(len(X))\n",
    "#print(len(X),len(y))\n",
    "#X_scaled = scaler.fit_transform(X)\n",
    "#y_scaled = scaler.fit_transform(y)\n",
    "\n",
    "#print(X_scaled[:])\n",
    "#print(y_scaled)"
   ]
  },
  {
   "cell_type": "code",
   "execution_count": 21,
   "metadata": {
    "scrolled": true
   },
   "outputs": [
    {
     "ename": "ValueError",
     "evalue": "Found input variables with inconsistent numbers of samples: [41962, 17984]",
     "output_type": "error",
     "traceback": [
      "\u001b[1;31m---------------------------------------------------------------------------\u001b[0m",
      "\u001b[1;31mValueError\u001b[0m                                Traceback (most recent call last)",
      "Cell \u001b[1;32mIn[21], line 6\u001b[0m\n\u001b[0;32m      4\u001b[0m LR \u001b[38;5;241m=\u001b[39m LinearRegression()\u001b[38;5;241m.\u001b[39mfit(X_train, y_train)\n\u001b[0;32m      5\u001b[0m prediction \u001b[38;5;241m=\u001b[39m LR\u001b[38;5;241m.\u001b[39mpredict(X_train)\n\u001b[1;32m----> 6\u001b[0m \u001b[38;5;28mprint\u001b[39m(\u001b[43mLR\u001b[49m\u001b[38;5;241;43m.\u001b[39;49m\u001b[43mscore\u001b[49m\u001b[43m(\u001b[49m\u001b[43mX_test\u001b[49m\u001b[43m,\u001b[49m\u001b[43m \u001b[49m\u001b[43mprediction\u001b[49m\u001b[43m)\u001b[49m)\n\u001b[0;32m      7\u001b[0m \u001b[38;5;28mprint\u001b[39m(prediction)\n\u001b[0;32m      8\u001b[0m plt\u001b[38;5;241m.\u001b[39mplot(X_test, prediction, \u001b[38;5;124m'\u001b[39m\u001b[38;5;124mo\u001b[39m\u001b[38;5;124m'\u001b[39m)\n",
      "File \u001b[1;32m~\\AppData\\Local\\Programs\\Python\\Python39\\lib\\site-packages\\sklearn\\base.py:761\u001b[0m, in \u001b[0;36mRegressorMixin.score\u001b[1;34m(self, X, y, sample_weight)\u001b[0m\n\u001b[0;32m    758\u001b[0m \u001b[38;5;28;01mfrom\u001b[39;00m \u001b[38;5;21;01m.\u001b[39;00m\u001b[38;5;21;01mmetrics\u001b[39;00m \u001b[38;5;28;01mimport\u001b[39;00m r2_score\n\u001b[0;32m    760\u001b[0m y_pred \u001b[38;5;241m=\u001b[39m \u001b[38;5;28mself\u001b[39m\u001b[38;5;241m.\u001b[39mpredict(X)\n\u001b[1;32m--> 761\u001b[0m \u001b[38;5;28;01mreturn\u001b[39;00m \u001b[43mr2_score\u001b[49m\u001b[43m(\u001b[49m\u001b[43my\u001b[49m\u001b[43m,\u001b[49m\u001b[43m \u001b[49m\u001b[43my_pred\u001b[49m\u001b[43m,\u001b[49m\u001b[43m \u001b[49m\u001b[43msample_weight\u001b[49m\u001b[38;5;241;43m=\u001b[39;49m\u001b[43msample_weight\u001b[49m\u001b[43m)\u001b[49m\n",
      "File \u001b[1;32m~\\AppData\\Local\\Programs\\Python\\Python39\\lib\\site-packages\\sklearn\\utils\\_param_validation.py:211\u001b[0m, in \u001b[0;36mvalidate_params.<locals>.decorator.<locals>.wrapper\u001b[1;34m(*args, **kwargs)\u001b[0m\n\u001b[0;32m    205\u001b[0m \u001b[38;5;28;01mtry\u001b[39;00m:\n\u001b[0;32m    206\u001b[0m     \u001b[38;5;28;01mwith\u001b[39;00m config_context(\n\u001b[0;32m    207\u001b[0m         skip_parameter_validation\u001b[38;5;241m=\u001b[39m(\n\u001b[0;32m    208\u001b[0m             prefer_skip_nested_validation \u001b[38;5;129;01mor\u001b[39;00m global_skip_validation\n\u001b[0;32m    209\u001b[0m         )\n\u001b[0;32m    210\u001b[0m     ):\n\u001b[1;32m--> 211\u001b[0m         \u001b[38;5;28;01mreturn\u001b[39;00m func(\u001b[38;5;241m*\u001b[39margs, \u001b[38;5;241m*\u001b[39m\u001b[38;5;241m*\u001b[39mkwargs)\n\u001b[0;32m    212\u001b[0m \u001b[38;5;28;01mexcept\u001b[39;00m InvalidParameterError \u001b[38;5;28;01mas\u001b[39;00m e:\n\u001b[0;32m    213\u001b[0m     \u001b[38;5;66;03m# When the function is just a wrapper around an estimator, we allow\u001b[39;00m\n\u001b[0;32m    214\u001b[0m     \u001b[38;5;66;03m# the function to delegate validation to the estimator, but we replace\u001b[39;00m\n\u001b[0;32m    215\u001b[0m     \u001b[38;5;66;03m# the name of the estimator by the name of the function in the error\u001b[39;00m\n\u001b[0;32m    216\u001b[0m     \u001b[38;5;66;03m# message to avoid confusion.\u001b[39;00m\n\u001b[0;32m    217\u001b[0m     msg \u001b[38;5;241m=\u001b[39m re\u001b[38;5;241m.\u001b[39msub(\n\u001b[0;32m    218\u001b[0m         \u001b[38;5;124mr\u001b[39m\u001b[38;5;124m\"\u001b[39m\u001b[38;5;124mparameter of \u001b[39m\u001b[38;5;124m\\\u001b[39m\u001b[38;5;124mw+ must be\u001b[39m\u001b[38;5;124m\"\u001b[39m,\n\u001b[0;32m    219\u001b[0m         \u001b[38;5;124mf\u001b[39m\u001b[38;5;124m\"\u001b[39m\u001b[38;5;124mparameter of \u001b[39m\u001b[38;5;132;01m{\u001b[39;00mfunc\u001b[38;5;241m.\u001b[39m\u001b[38;5;18m__qualname__\u001b[39m\u001b[38;5;132;01m}\u001b[39;00m\u001b[38;5;124m must be\u001b[39m\u001b[38;5;124m\"\u001b[39m,\n\u001b[0;32m    220\u001b[0m         \u001b[38;5;28mstr\u001b[39m(e),\n\u001b[0;32m    221\u001b[0m     )\n",
      "File \u001b[1;32m~\\AppData\\Local\\Programs\\Python\\Python39\\lib\\site-packages\\sklearn\\metrics\\_regression.py:989\u001b[0m, in \u001b[0;36mr2_score\u001b[1;34m(y_true, y_pred, sample_weight, multioutput, force_finite)\u001b[0m\n\u001b[0;32m    848\u001b[0m \u001b[38;5;129m@validate_params\u001b[39m(\n\u001b[0;32m    849\u001b[0m     {\n\u001b[0;32m    850\u001b[0m         \u001b[38;5;124m\"\u001b[39m\u001b[38;5;124my_true\u001b[39m\u001b[38;5;124m\"\u001b[39m: [\u001b[38;5;124m\"\u001b[39m\u001b[38;5;124marray-like\u001b[39m\u001b[38;5;124m\"\u001b[39m],\n\u001b[1;32m   (...)\u001b[0m\n\u001b[0;32m    868\u001b[0m     force_finite\u001b[38;5;241m=\u001b[39m\u001b[38;5;28;01mTrue\u001b[39;00m,\n\u001b[0;32m    869\u001b[0m ):\n\u001b[0;32m    870\u001b[0m \u001b[38;5;250m    \u001b[39m\u001b[38;5;124;03m\"\"\":math:`R^2` (coefficient of determination) regression score function.\u001b[39;00m\n\u001b[0;32m    871\u001b[0m \n\u001b[0;32m    872\u001b[0m \u001b[38;5;124;03m    Best possible score is 1.0 and it can be negative (because the\u001b[39;00m\n\u001b[1;32m   (...)\u001b[0m\n\u001b[0;32m    987\u001b[0m \u001b[38;5;124;03m    -inf\u001b[39;00m\n\u001b[0;32m    988\u001b[0m \u001b[38;5;124;03m    \"\"\"\u001b[39;00m\n\u001b[1;32m--> 989\u001b[0m     y_type, y_true, y_pred, multioutput \u001b[38;5;241m=\u001b[39m \u001b[43m_check_reg_targets\u001b[49m\u001b[43m(\u001b[49m\n\u001b[0;32m    990\u001b[0m \u001b[43m        \u001b[49m\u001b[43my_true\u001b[49m\u001b[43m,\u001b[49m\u001b[43m \u001b[49m\u001b[43my_pred\u001b[49m\u001b[43m,\u001b[49m\u001b[43m \u001b[49m\u001b[43mmultioutput\u001b[49m\n\u001b[0;32m    991\u001b[0m \u001b[43m    \u001b[49m\u001b[43m)\u001b[49m\n\u001b[0;32m    992\u001b[0m     check_consistent_length(y_true, y_pred, sample_weight)\n\u001b[0;32m    994\u001b[0m     \u001b[38;5;28;01mif\u001b[39;00m _num_samples(y_pred) \u001b[38;5;241m<\u001b[39m \u001b[38;5;241m2\u001b[39m:\n",
      "File \u001b[1;32m~\\AppData\\Local\\Programs\\Python\\Python39\\lib\\site-packages\\sklearn\\metrics\\_regression.py:99\u001b[0m, in \u001b[0;36m_check_reg_targets\u001b[1;34m(y_true, y_pred, multioutput, dtype)\u001b[0m\n\u001b[0;32m     65\u001b[0m \u001b[38;5;28;01mdef\u001b[39;00m \u001b[38;5;21m_check_reg_targets\u001b[39m(y_true, y_pred, multioutput, dtype\u001b[38;5;241m=\u001b[39m\u001b[38;5;124m\"\u001b[39m\u001b[38;5;124mnumeric\u001b[39m\u001b[38;5;124m\"\u001b[39m):\n\u001b[0;32m     66\u001b[0m \u001b[38;5;250m    \u001b[39m\u001b[38;5;124;03m\"\"\"Check that y_true and y_pred belong to the same regression task.\u001b[39;00m\n\u001b[0;32m     67\u001b[0m \n\u001b[0;32m     68\u001b[0m \u001b[38;5;124;03m    Parameters\u001b[39;00m\n\u001b[1;32m   (...)\u001b[0m\n\u001b[0;32m     97\u001b[0m \u001b[38;5;124;03m        correct keyword.\u001b[39;00m\n\u001b[0;32m     98\u001b[0m \u001b[38;5;124;03m    \"\"\"\u001b[39;00m\n\u001b[1;32m---> 99\u001b[0m     \u001b[43mcheck_consistent_length\u001b[49m\u001b[43m(\u001b[49m\u001b[43my_true\u001b[49m\u001b[43m,\u001b[49m\u001b[43m \u001b[49m\u001b[43my_pred\u001b[49m\u001b[43m)\u001b[49m\n\u001b[0;32m    100\u001b[0m     y_true \u001b[38;5;241m=\u001b[39m check_array(y_true, ensure_2d\u001b[38;5;241m=\u001b[39m\u001b[38;5;28;01mFalse\u001b[39;00m, dtype\u001b[38;5;241m=\u001b[39mdtype)\n\u001b[0;32m    101\u001b[0m     y_pred \u001b[38;5;241m=\u001b[39m check_array(y_pred, ensure_2d\u001b[38;5;241m=\u001b[39m\u001b[38;5;28;01mFalse\u001b[39;00m, dtype\u001b[38;5;241m=\u001b[39mdtype)\n",
      "File \u001b[1;32m~\\AppData\\Local\\Programs\\Python\\Python39\\lib\\site-packages\\sklearn\\utils\\validation.py:407\u001b[0m, in \u001b[0;36mcheck_consistent_length\u001b[1;34m(*arrays)\u001b[0m\n\u001b[0;32m    405\u001b[0m uniques \u001b[38;5;241m=\u001b[39m np\u001b[38;5;241m.\u001b[39munique(lengths)\n\u001b[0;32m    406\u001b[0m \u001b[38;5;28;01mif\u001b[39;00m \u001b[38;5;28mlen\u001b[39m(uniques) \u001b[38;5;241m>\u001b[39m \u001b[38;5;241m1\u001b[39m:\n\u001b[1;32m--> 407\u001b[0m     \u001b[38;5;28;01mraise\u001b[39;00m \u001b[38;5;167;01mValueError\u001b[39;00m(\n\u001b[0;32m    408\u001b[0m         \u001b[38;5;124m\"\u001b[39m\u001b[38;5;124mFound input variables with inconsistent numbers of samples: \u001b[39m\u001b[38;5;132;01m%r\u001b[39;00m\u001b[38;5;124m\"\u001b[39m\n\u001b[0;32m    409\u001b[0m         \u001b[38;5;241m%\u001b[39m [\u001b[38;5;28mint\u001b[39m(l) \u001b[38;5;28;01mfor\u001b[39;00m l \u001b[38;5;129;01min\u001b[39;00m lengths]\n\u001b[0;32m    410\u001b[0m     )\n",
      "\u001b[1;31mValueError\u001b[0m: Found input variables with inconsistent numbers of samples: [41962, 17984]"
     ]
    }
   ],
   "source": [
    "X_train, X_test, y_train, y_test = train_test_split(X, y, test_size=0.30, random_state= 13)\n",
    "loss= nn.BCEWithLogitsLoss\n",
    "#optimizer = optim\n",
    "LR = LinearRegression().fit(X_train, y_train)\n",
    "prediction = LR.predict(X_train)\n",
    "print(LR.score(X_test, prediction))\n",
    "print(prediction)\n",
    "plt.plot(X_test, prediction, 'o')\n",
    "plt.plot(X_test, prediction)\n",
    "plt.show()\n",
    "\n",
    "knclass = KMeans(n_clusters=3, random_state=13, n_init=10)\n",
    "labels= knclass.fit_predict(X_train)\n",
    "centroids = knclass.cluster_centers_\n",
    "centroids_X = centroids[:,0]\n",
    "centroids_y = centroids[:,1]\n",
    "#print(centroids)\n"
   ]
  },
  {
   "cell_type": "code",
   "execution_count": null,
   "metadata": {},
   "outputs": [],
   "source": [
    "print(knclass.score(X_test, y_test))"
   ]
  },
  {
   "cell_type": "code",
   "execution_count": null,
   "metadata": {
    "scrolled": true
   },
   "outputs": [],
   "source": [
    "clf = MLPClassifier(random_state=13, max_iter = 3000, solver='adam', learning_rate_init=0.001).fit(X_train, y_train)\n",
    "\n",
    "for epoch in range(1000):\n",
    "    predictions = clf.predict(X_test)\n",
    "    BCEll = loss(X_test, predictions) # compute loss\n",
    "    BCEll.backward() # compute gradients\n",
    "    optimizer.step()\n",
    "    optimizer.zero_grad()\n",
    "    if epoch % 100 == 0:\n",
    "        print(f'Epoch is {epoch} loss is {MSE}')"
   ]
  },
  {
   "cell_type": "code",
   "execution_count": null,
   "metadata": {},
   "outputs": [],
   "source": []
  }
 ],
 "metadata": {
  "kernelspec": {
   "display_name": "Python 3 (ipykernel)",
   "language": "python",
   "name": "python3"
  },
  "language_info": {
   "codemirror_mode": {
    "name": "ipython",
    "version": 3
   },
   "file_extension": ".py",
   "mimetype": "text/x-python",
   "name": "python",
   "nbconvert_exporter": "python",
   "pygments_lexer": "ipython3",
   "version": "3.9.9"
  }
 },
 "nbformat": 4,
 "nbformat_minor": 4
}
